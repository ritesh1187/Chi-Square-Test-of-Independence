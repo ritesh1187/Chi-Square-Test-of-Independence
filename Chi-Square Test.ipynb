{
 "cells": [
  {
   "cell_type": "markdown",
   "metadata": {},
   "source": [
    "### Importing required Libraries"
   ]
  },
  {
   "cell_type": "code",
   "execution_count": 8,
   "metadata": {},
   "outputs": [],
   "source": [
    "import os as os\n",
    "import pandas as pd"
   ]
  },
  {
   "cell_type": "code",
   "execution_count": 9,
   "metadata": {},
   "outputs": [],
   "source": [
    "os.chdir('D:/Readings/Analytics Vidhya/Loan Prediction Hackathon')"
   ]
  },
  {
   "cell_type": "markdown",
   "metadata": {},
   "source": [
    "#### Importing Dataset"
   ]
  },
  {
   "cell_type": "code",
   "execution_count": 10,
   "metadata": {},
   "outputs": [],
   "source": [
    "df = pd.read_csv(\"train_ctrUa4K.csv\")"
   ]
  },
  {
   "cell_type": "code",
   "execution_count": 11,
   "metadata": {},
   "outputs": [
    {
     "data": {
      "text/plain": [
       "Index(['Loan_ID', 'Gender', 'Married', 'Dependents', 'Education',\n",
       "       'Self_Employed', 'ApplicantIncome', 'CoapplicantIncome', 'LoanAmount',\n",
       "       'Loan_Amount_Term', 'Credit_History', 'Property_Area', 'Loan_Status'],\n",
       "      dtype='object')"
      ]
     },
     "execution_count": 11,
     "metadata": {},
     "output_type": "execute_result"
    }
   ],
   "source": [
    "df.columns"
   ]
  },
  {
   "cell_type": "code",
   "execution_count": 12,
   "metadata": {},
   "outputs": [
    {
     "data": {
      "text/plain": [
       "Loan_ID               object\n",
       "Gender                object\n",
       "Married               object\n",
       "Dependents            object\n",
       "Education             object\n",
       "Self_Employed         object\n",
       "ApplicantIncome        int64\n",
       "CoapplicantIncome    float64\n",
       "LoanAmount           float64\n",
       "Loan_Amount_Term     float64\n",
       "Credit_History       float64\n",
       "Property_Area         object\n",
       "Loan_Status           object\n",
       "dtype: object"
      ]
     },
     "execution_count": 12,
     "metadata": {},
     "output_type": "execute_result"
    }
   ],
   "source": [
    "df.dtypes"
   ]
  },
  {
   "cell_type": "markdown",
   "metadata": {},
   "source": [
    "#### Getting all categorical variables"
   ]
  },
  {
   "cell_type": "code",
   "execution_count": 13,
   "metadata": {},
   "outputs": [],
   "source": [
    "df_cat = pd.DataFrame(data = df.dtypes, columns = ['a']).reset_index()"
   ]
  },
  {
   "cell_type": "code",
   "execution_count": 14,
   "metadata": {},
   "outputs": [
    {
     "data": {
      "text/html": [
       "<div>\n",
       "<style scoped>\n",
       "    .dataframe tbody tr th:only-of-type {\n",
       "        vertical-align: middle;\n",
       "    }\n",
       "\n",
       "    .dataframe tbody tr th {\n",
       "        vertical-align: top;\n",
       "    }\n",
       "\n",
       "    .dataframe thead th {\n",
       "        text-align: right;\n",
       "    }\n",
       "</style>\n",
       "<table border=\"1\" class=\"dataframe\">\n",
       "  <thead>\n",
       "    <tr style=\"text-align: right;\">\n",
       "      <th></th>\n",
       "      <th>index</th>\n",
       "      <th>a</th>\n",
       "    </tr>\n",
       "  </thead>\n",
       "  <tbody>\n",
       "    <tr>\n",
       "      <th>0</th>\n",
       "      <td>Loan_ID</td>\n",
       "      <td>object</td>\n",
       "    </tr>\n",
       "    <tr>\n",
       "      <th>1</th>\n",
       "      <td>Gender</td>\n",
       "      <td>object</td>\n",
       "    </tr>\n",
       "    <tr>\n",
       "      <th>2</th>\n",
       "      <td>Married</td>\n",
       "      <td>object</td>\n",
       "    </tr>\n",
       "    <tr>\n",
       "      <th>3</th>\n",
       "      <td>Dependents</td>\n",
       "      <td>object</td>\n",
       "    </tr>\n",
       "    <tr>\n",
       "      <th>4</th>\n",
       "      <td>Education</td>\n",
       "      <td>object</td>\n",
       "    </tr>\n",
       "  </tbody>\n",
       "</table>\n",
       "</div>"
      ],
      "text/plain": [
       "        index       a\n",
       "0     Loan_ID  object\n",
       "1      Gender  object\n",
       "2     Married  object\n",
       "3  Dependents  object\n",
       "4   Education  object"
      ]
     },
     "execution_count": 14,
     "metadata": {},
     "output_type": "execute_result"
    }
   ],
   "source": [
    "df_cat.head()"
   ]
  },
  {
   "cell_type": "code",
   "execution_count": 15,
   "metadata": {},
   "outputs": [],
   "source": [
    "cat_var = list(df_cat['index'].loc[df_cat['a'] == 'object'])"
   ]
  },
  {
   "cell_type": "code",
   "execution_count": 16,
   "metadata": {},
   "outputs": [
    {
     "data": {
      "text/plain": [
       "['Loan_ID',\n",
       " 'Gender',\n",
       " 'Married',\n",
       " 'Dependents',\n",
       " 'Education',\n",
       " 'Self_Employed',\n",
       " 'Property_Area',\n",
       " 'Loan_Status']"
      ]
     },
     "execution_count": 16,
     "metadata": {},
     "output_type": "execute_result"
    }
   ],
   "source": [
    "cat_var"
   ]
  },
  {
   "cell_type": "code",
   "execution_count": 17,
   "metadata": {},
   "outputs": [],
   "source": [
    "df_cat = df[cat_var]"
   ]
  },
  {
   "cell_type": "code",
   "execution_count": 18,
   "metadata": {},
   "outputs": [
    {
     "data": {
      "text/html": [
       "<div>\n",
       "<style scoped>\n",
       "    .dataframe tbody tr th:only-of-type {\n",
       "        vertical-align: middle;\n",
       "    }\n",
       "\n",
       "    .dataframe tbody tr th {\n",
       "        vertical-align: top;\n",
       "    }\n",
       "\n",
       "    .dataframe thead th {\n",
       "        text-align: right;\n",
       "    }\n",
       "</style>\n",
       "<table border=\"1\" class=\"dataframe\">\n",
       "  <thead>\n",
       "    <tr style=\"text-align: right;\">\n",
       "      <th></th>\n",
       "      <th>Loan_ID</th>\n",
       "      <th>Gender</th>\n",
       "      <th>Married</th>\n",
       "      <th>Dependents</th>\n",
       "      <th>Education</th>\n",
       "      <th>Self_Employed</th>\n",
       "      <th>Property_Area</th>\n",
       "      <th>Loan_Status</th>\n",
       "    </tr>\n",
       "  </thead>\n",
       "  <tbody>\n",
       "    <tr>\n",
       "      <th>0</th>\n",
       "      <td>LP001002</td>\n",
       "      <td>Male</td>\n",
       "      <td>No</td>\n",
       "      <td>0</td>\n",
       "      <td>Graduate</td>\n",
       "      <td>No</td>\n",
       "      <td>Urban</td>\n",
       "      <td>Y</td>\n",
       "    </tr>\n",
       "    <tr>\n",
       "      <th>1</th>\n",
       "      <td>LP001003</td>\n",
       "      <td>Male</td>\n",
       "      <td>Yes</td>\n",
       "      <td>1</td>\n",
       "      <td>Graduate</td>\n",
       "      <td>No</td>\n",
       "      <td>Rural</td>\n",
       "      <td>N</td>\n",
       "    </tr>\n",
       "    <tr>\n",
       "      <th>2</th>\n",
       "      <td>LP001005</td>\n",
       "      <td>Male</td>\n",
       "      <td>Yes</td>\n",
       "      <td>0</td>\n",
       "      <td>Graduate</td>\n",
       "      <td>Yes</td>\n",
       "      <td>Urban</td>\n",
       "      <td>Y</td>\n",
       "    </tr>\n",
       "    <tr>\n",
       "      <th>3</th>\n",
       "      <td>LP001006</td>\n",
       "      <td>Male</td>\n",
       "      <td>Yes</td>\n",
       "      <td>0</td>\n",
       "      <td>Not Graduate</td>\n",
       "      <td>No</td>\n",
       "      <td>Urban</td>\n",
       "      <td>Y</td>\n",
       "    </tr>\n",
       "    <tr>\n",
       "      <th>4</th>\n",
       "      <td>LP001008</td>\n",
       "      <td>Male</td>\n",
       "      <td>No</td>\n",
       "      <td>0</td>\n",
       "      <td>Graduate</td>\n",
       "      <td>No</td>\n",
       "      <td>Urban</td>\n",
       "      <td>Y</td>\n",
       "    </tr>\n",
       "  </tbody>\n",
       "</table>\n",
       "</div>"
      ],
      "text/plain": [
       "    Loan_ID Gender Married Dependents     Education Self_Employed  \\\n",
       "0  LP001002   Male      No          0      Graduate            No   \n",
       "1  LP001003   Male     Yes          1      Graduate            No   \n",
       "2  LP001005   Male     Yes          0      Graduate           Yes   \n",
       "3  LP001006   Male     Yes          0  Not Graduate            No   \n",
       "4  LP001008   Male      No          0      Graduate            No   \n",
       "\n",
       "  Property_Area Loan_Status  \n",
       "0         Urban           Y  \n",
       "1         Rural           N  \n",
       "2         Urban           Y  \n",
       "3         Urban           Y  \n",
       "4         Urban           Y  "
      ]
     },
     "execution_count": 18,
     "metadata": {},
     "output_type": "execute_result"
    }
   ],
   "source": [
    "df_cat.head()"
   ]
  },
  {
   "cell_type": "markdown",
   "metadata": {},
   "source": [
    "#### Removing records with at least one null value in a row"
   ]
  },
  {
   "cell_type": "code",
   "execution_count": 19,
   "metadata": {},
   "outputs": [],
   "source": [
    "df_cat_v1 = df_cat.dropna()"
   ]
  },
  {
   "cell_type": "code",
   "execution_count": 20,
   "metadata": {},
   "outputs": [
    {
     "data": {
      "text/plain": [
       "(554, 8)"
      ]
     },
     "execution_count": 20,
     "metadata": {},
     "output_type": "execute_result"
    }
   ],
   "source": [
    "df_cat_v1.shape"
   ]
  },
  {
   "cell_type": "markdown",
   "metadata": {},
   "source": [
    "Let us split this list into two parts"
   ]
  },
  {
   "cell_type": "code",
   "execution_count": 21,
   "metadata": {},
   "outputs": [],
   "source": [
    "cat_var1 = ('Gender', 'Married', 'Dependents', 'Education', 'Self_Employed', 'Property_Area')"
   ]
  },
  {
   "cell_type": "code",
   "execution_count": 22,
   "metadata": {},
   "outputs": [],
   "source": [
    "cat_var2 = ('Gender', 'Married', 'Dependents', 'Education', 'Self_Employed', 'Property_Area')"
   ]
  },
  {
   "cell_type": "markdown",
   "metadata": {},
   "source": [
    "#### Let us jump to Chi-Square test. To start with let us import the required libraries"
   ]
  },
  {
   "cell_type": "code",
   "execution_count": 23,
   "metadata": {},
   "outputs": [],
   "source": [
    "from itertools import product\n",
    "import numpy as np\n",
    "import scipy.stats as ss"
   ]
  },
  {
   "cell_type": "markdown",
   "metadata": {},
   "source": [
    "Creating all possible combinations between the above two variables list"
   ]
  },
  {
   "cell_type": "code",
   "execution_count": 24,
   "metadata": {},
   "outputs": [],
   "source": [
    "cat_var_prod = list(product(cat_var1,cat_var2, repeat = 1))"
   ]
  },
  {
   "cell_type": "code",
   "execution_count": 25,
   "metadata": {},
   "outputs": [
    {
     "ename": "AttributeError",
     "evalue": "'list' object has no attribute 'drop_duplicates'",
     "output_type": "error",
     "traceback": [
      "\u001b[1;31m---------------------------------------------------------------------------\u001b[0m",
      "\u001b[1;31mAttributeError\u001b[0m                            Traceback (most recent call last)",
      "\u001b[1;32m<ipython-input-25-c86f0c1316aa>\u001b[0m in \u001b[0;36m<module>\u001b[1;34m()\u001b[0m\n\u001b[1;32m----> 1\u001b[1;33m \u001b[0mcat_var_prod\u001b[0m\u001b[1;33m.\u001b[0m\u001b[0mdrop_duplicates\u001b[0m\u001b[1;33m(\u001b[0m\u001b[1;33m)\u001b[0m\u001b[1;33m\u001b[0m\u001b[0m\n\u001b[0m",
      "\u001b[1;31mAttributeError\u001b[0m: 'list' object has no attribute 'drop_duplicates'"
     ]
    }
   ],
   "source": [
    "cat_var_prod.drop_duplicates()"
   ]
  },
  {
   "cell_type": "markdown",
   "metadata": {},
   "source": [
    "So we have in all 12 ombinations. Now just imagine if you were to really check association between each of these variables,\n",
    "you would have to run chi-square test 12 times. So here I will help you with the code that will reduce the execution times from\n",
    "12 to 1. Let us see how we can do this."
   ]
  },
  {
   "cell_type": "markdown",
   "metadata": {},
   "source": [
    "Creating an empty variable and picking only the p value from the output of Chi-Square test"
   ]
  },
  {
   "cell_type": "code",
   "execution_count": 18,
   "metadata": {},
   "outputs": [],
   "source": [
    "result = []"
   ]
  },
  {
   "cell_type": "code",
   "execution_count": 19,
   "metadata": {},
   "outputs": [],
   "source": [
    "for i in cat_var_prod:\n",
    "    if i[0] != i[1]:\n",
    "        result.append((i[0], i[1],list(ss.chi2_contingency(pd.crosstab(df_cat_v1[i[0]], df_cat_v1[i[1]])))[1]))"
   ]
  },
  {
   "cell_type": "code",
   "execution_count": 60,
   "metadata": {
    "scrolled": true
   },
   "outputs": [
    {
     "data": {
      "text/plain": [
       "[('Gender', 'Married', 3.195919822839657e-17),\n",
       " ('Gender', 'Dependents', 2.578960792620006e-05),\n",
       " ('Gender', 'Education', 0.2988070774266799),\n",
       " ('Gender', 'Self_Employed', 0.8367073961290672),\n",
       " ('Gender', 'Property_Area', 0.05166338663302401),\n",
       " ('Married', 'Gender', 3.195919822839657e-17),\n",
       " ('Married', 'Dependents', 4.622117038501888e-18),\n",
       " ('Married', 'Education', 0.9780364597922157),\n",
       " ('Married', 'Self_Employed', 0.9667467939322089),\n",
       " ('Married', 'Property_Area', 0.885151312411991),\n",
       " ('Dependents', 'Gender', 2.578960792620006e-05),\n",
       " ('Dependents', 'Married', 4.622117038501888e-18),\n",
       " ('Dependents', 'Education', 0.3262645381335668),\n",
       " ('Dependents', 'Self_Employed', 0.10758819405474623),\n",
       " ('Dependents', 'Property_Area', 0.25342662767163165),\n",
       " ('Education', 'Gender', 0.2988070774266799),\n",
       " ('Education', 'Married', 0.9780364597922157),\n",
       " ('Education', 'Dependents', 0.3262645381335668),\n",
       " ('Education', 'Self_Employed', 0.9115980403762441),\n",
       " ('Education', 'Property_Area', 0.3918935252051685),\n",
       " ('Self_Employed', 'Gender', 0.8367073961290672),\n",
       " ('Self_Employed', 'Married', 0.9667467939322089),\n",
       " ('Self_Employed', 'Dependents', 0.10758819405474623),\n",
       " ('Self_Employed', 'Education', 0.9115980403762441),\n",
       " ('Self_Employed', 'Property_Area', 0.7041563894088703),\n",
       " ('Property_Area', 'Gender', 0.05166338663302404),\n",
       " ('Property_Area', 'Married', 0.885151312411991),\n",
       " ('Property_Area', 'Dependents', 0.2534266276716316),\n",
       " ('Property_Area', 'Education', 0.3918935252051685),\n",
       " ('Property_Area', 'Self_Employed', 0.7041563894088703)]"
      ]
     },
     "execution_count": 60,
     "metadata": {},
     "output_type": "execute_result"
    }
   ],
   "source": [
    "result"
   ]
  },
  {
   "cell_type": "markdown",
   "metadata": {},
   "source": [
    "Now the idea here is to create a crosstab similar to what we get from df.corr() function"
   ]
  },
  {
   "cell_type": "code",
   "execution_count": 21,
   "metadata": {},
   "outputs": [],
   "source": [
    "chi_test_output = pd.DataFrame(result, columns = ['var1', 'var2', 'coeff'])"
   ]
  },
  {
   "cell_type": "markdown",
   "metadata": {},
   "source": [
    "Using pivot function to convert the above DataFrame into a crosstab"
   ]
  },
  {
   "cell_type": "code",
   "execution_count": 22,
   "metadata": {},
   "outputs": [
    {
     "data": {
      "text/html": [
       "<div>\n",
       "<style scoped>\n",
       "    .dataframe tbody tr th:only-of-type {\n",
       "        vertical-align: middle;\n",
       "    }\n",
       "\n",
       "    .dataframe tbody tr th {\n",
       "        vertical-align: top;\n",
       "    }\n",
       "\n",
       "    .dataframe thead th {\n",
       "        text-align: right;\n",
       "    }\n",
       "</style>\n",
       "<table border=\"1\" class=\"dataframe\">\n",
       "  <thead>\n",
       "    <tr style=\"text-align: right;\">\n",
       "      <th>var2</th>\n",
       "      <th>Dependents</th>\n",
       "      <th>Education</th>\n",
       "      <th>Gender</th>\n",
       "      <th>Married</th>\n",
       "      <th>Property_Area</th>\n",
       "      <th>Self_Employed</th>\n",
       "    </tr>\n",
       "    <tr>\n",
       "      <th>var1</th>\n",
       "      <th></th>\n",
       "      <th></th>\n",
       "      <th></th>\n",
       "      <th></th>\n",
       "      <th></th>\n",
       "      <th></th>\n",
       "    </tr>\n",
       "  </thead>\n",
       "  <tbody>\n",
       "    <tr>\n",
       "      <th>Dependents</th>\n",
       "      <td>NaN</td>\n",
       "      <td>0.326265</td>\n",
       "      <td>2.578961e-05</td>\n",
       "      <td>4.622117e-18</td>\n",
       "      <td>0.253427</td>\n",
       "      <td>0.107588</td>\n",
       "    </tr>\n",
       "    <tr>\n",
       "      <th>Education</th>\n",
       "      <td>3.262645e-01</td>\n",
       "      <td>NaN</td>\n",
       "      <td>2.988071e-01</td>\n",
       "      <td>9.780365e-01</td>\n",
       "      <td>0.391894</td>\n",
       "      <td>0.911598</td>\n",
       "    </tr>\n",
       "    <tr>\n",
       "      <th>Gender</th>\n",
       "      <td>2.578961e-05</td>\n",
       "      <td>0.298807</td>\n",
       "      <td>NaN</td>\n",
       "      <td>3.195920e-17</td>\n",
       "      <td>0.051663</td>\n",
       "      <td>0.836707</td>\n",
       "    </tr>\n",
       "    <tr>\n",
       "      <th>Married</th>\n",
       "      <td>4.622117e-18</td>\n",
       "      <td>0.978036</td>\n",
       "      <td>3.195920e-17</td>\n",
       "      <td>NaN</td>\n",
       "      <td>0.885151</td>\n",
       "      <td>0.966747</td>\n",
       "    </tr>\n",
       "    <tr>\n",
       "      <th>Property_Area</th>\n",
       "      <td>2.534266e-01</td>\n",
       "      <td>0.391894</td>\n",
       "      <td>5.166339e-02</td>\n",
       "      <td>8.851513e-01</td>\n",
       "      <td>NaN</td>\n",
       "      <td>0.704156</td>\n",
       "    </tr>\n",
       "    <tr>\n",
       "      <th>Self_Employed</th>\n",
       "      <td>1.075882e-01</td>\n",
       "      <td>0.911598</td>\n",
       "      <td>8.367074e-01</td>\n",
       "      <td>9.667468e-01</td>\n",
       "      <td>0.704156</td>\n",
       "      <td>NaN</td>\n",
       "    </tr>\n",
       "  </tbody>\n",
       "</table>\n",
       "</div>"
      ],
      "text/plain": [
       "var2             Dependents  Education        Gender       Married  \\\n",
       "var1                                                                 \n",
       "Dependents              NaN   0.326265  2.578961e-05  4.622117e-18   \n",
       "Education      3.262645e-01        NaN  2.988071e-01  9.780365e-01   \n",
       "Gender         2.578961e-05   0.298807           NaN  3.195920e-17   \n",
       "Married        4.622117e-18   0.978036  3.195920e-17           NaN   \n",
       "Property_Area  2.534266e-01   0.391894  5.166339e-02  8.851513e-01   \n",
       "Self_Employed  1.075882e-01   0.911598  8.367074e-01  9.667468e-01   \n",
       "\n",
       "var2           Property_Area  Self_Employed  \n",
       "var1                                         \n",
       "Dependents          0.253427       0.107588  \n",
       "Education           0.391894       0.911598  \n",
       "Gender              0.051663       0.836707  \n",
       "Married             0.885151       0.966747  \n",
       "Property_Area            NaN       0.704156  \n",
       "Self_Employed       0.704156            NaN  "
      ]
     },
     "execution_count": 22,
     "metadata": {},
     "output_type": "execute_result"
    }
   ],
   "source": [
    "chi_test_output.pivot(index='var1', columns='var2', values='coeff')"
   ]
  },
  {
   "cell_type": "markdown",
   "metadata": {},
   "source": [
    "##### There exists a relationship between two variables if p value < 0.05. So from the above table we can say that there is definetly some association between Dependents and Gender, Dependents and Married, Married and Gender. For rest of the pairs there exists no relationship "
   ]
  },
  {
   "cell_type": "markdown",
   "metadata": {},
   "source": [
    "## Post Hoc Testing"
   ]
  },
  {
   "cell_type": "code",
   "execution_count": 28,
   "metadata": {},
   "outputs": [],
   "source": [
    "for i in cat_var_prod:\n",
    "    if i[0] != i[1]:\n",
    "        result1.append((i[0], i[1],list(ss.chi2_contingency(pd.crosstab(df_cat_v1[i[0]], df_cat_v1[i[1]])))[3]))"
   ]
  },
  {
   "cell_type": "code",
   "execution_count": 59,
   "metadata": {},
   "outputs": [
    {
     "data": {
      "text/plain": [
       "[array([[ 35.00361011,  65.99638989],\n",
       "        [156.99638989, 296.00361011]]),\n",
       " array([[ 58.15703971,  17.31949458,  17.13718412,   8.38628159],\n",
       "        [260.84296029,  77.68050542,  76.86281588,  37.61371841]]),\n",
       " array([[ 78.57581227,  22.42418773],\n",
       "        [352.42418773, 100.57581227]]),\n",
       " array([[ 87.14440433,  13.85559567],\n",
       "        [390.85559567,  62.14440433]]),\n",
       " array([[ 29.7166065 ,  38.46750903,  32.81588448],\n",
       "        [133.2833935 , 172.53249097, 147.18411552]]),\n",
       " array([[ 35.00361011, 156.99638989],\n",
       "        [ 65.99638989, 296.00361011]]),\n",
       " array([[110.55595668,  32.92418773,  32.57761733,  15.94223827],\n",
       "        [208.44404332,  62.07581227,  61.42238267,  30.05776173]]),\n",
       " array([[149.37184116,  42.62815884],\n",
       "        [281.62815884,  80.37184116]]),\n",
       " array([[165.66064982,  26.33935018],\n",
       "        [312.33935018,  49.66064982]]),\n",
       " array([[ 56.49097473,  73.12635379,  62.38267148],\n",
       "        [106.50902527, 137.87364621, 117.61732852]]),\n",
       " array([[ 58.15703971, 260.84296029],\n",
       "        [ 17.31949458,  77.68050542],\n",
       "        [ 17.13718412,  76.86281588],\n",
       "        [  8.38628159,  37.61371841]]),\n",
       " array([[110.55595668, 208.44404332],\n",
       "        [ 32.92418773,  62.07581227],\n",
       "        [ 32.57761733,  61.42238267],\n",
       "        [ 15.94223827,  30.05776173]]),\n",
       " array([[248.17509025,  70.82490975],\n",
       "        [ 73.90794224,  21.09205776],\n",
       "        [ 73.1299639 ,  20.8700361 ],\n",
       "        [ 35.78700361,  10.21299639]]),\n",
       " array([[275.23826715,  43.76173285],\n",
       "        [ 81.96750903,  13.03249097],\n",
       "        [ 81.10469314,  12.89530686],\n",
       "        [ 39.68953069,   6.31046931]]),\n",
       " array([[ 93.85740072, 121.49638989, 103.64620939],\n",
       "        [ 27.95126354,  36.18231047,  30.86642599],\n",
       "        [ 27.65703971,  35.80144404,  30.54151625],\n",
       "        [ 13.53429603,  17.5198556 ,  14.94584838]]),\n",
       " array([[ 78.57581227, 352.42418773],\n",
       "        [ 22.42418773, 100.57581227]]),\n",
       " array([[149.37184116, 281.62815884],\n",
       "        [ 42.62815884,  80.37184116]]),\n",
       " array([[248.17509025,  73.90794224,  73.1299639 ,  35.78700361],\n",
       "        [ 70.82490975,  21.09205776,  20.8700361 ,  10.21299639]]),\n",
       " array([[371.87364621,  59.12635379],\n",
       "        [106.12635379,  16.87364621]]),\n",
       " array([[126.81046931, 164.1534296 , 140.03610108],\n",
       "        [ 36.18953069,  46.8465704 ,  39.96389892]]),\n",
       " array([[ 87.14440433, 390.85559567],\n",
       "        [ 13.85559567,  62.14440433]]),\n",
       " array([[165.66064982, 312.33935018],\n",
       "        [ 26.33935018,  49.66064982]]),\n",
       " array([[275.23826715,  81.96750903,  81.10469314,  39.68953069],\n",
       "        [ 43.76173285,  13.03249097,  12.89530686,   6.31046931]]),\n",
       " array([[371.87364621, 106.12635379],\n",
       "        [ 59.12635379,  16.87364621]]),\n",
       " array([[140.63898917, 182.05415162, 155.30685921],\n",
       "        [ 22.36101083,  28.94584838,  24.69314079]]),\n",
       " array([[ 29.7166065 , 133.2833935 ],\n",
       "        [ 38.46750903, 172.53249097],\n",
       "        [ 32.81588448, 147.18411552]]),\n",
       " array([[ 56.49097473, 106.50902527],\n",
       "        [ 73.12635379, 137.87364621],\n",
       "        [ 62.38267148, 117.61732852]]),\n",
       " array([[ 93.85740072,  27.95126354,  27.65703971,  13.53429603],\n",
       "        [121.49638989,  36.18231047,  35.80144404,  17.5198556 ],\n",
       "        [103.64620939,  30.86642599,  30.54151625,  14.94584838]]),\n",
       " array([[126.81046931,  36.18953069],\n",
       "        [164.1534296 ,  46.8465704 ],\n",
       "        [140.03610108,  39.96389892]]),\n",
       " array([[140.63898917,  22.36101083],\n",
       "        [182.05415162,  28.94584838],\n",
       "        [155.30685921,  24.69314079]])]"
      ]
     },
     "execution_count": 59,
     "metadata": {},
     "output_type": "execute_result"
    }
   ],
   "source": [
    "list(map(itemgetter(2), result1))"
   ]
  },
  {
   "cell_type": "code",
   "execution_count": 57,
   "metadata": {},
   "outputs": [],
   "source": []
  },
  {
   "cell_type": "code",
   "execution_count": null,
   "metadata": {},
   "outputs": [],
   "source": []
  },
  {
   "cell_type": "code",
   "execution_count": null,
   "metadata": {},
   "outputs": [],
   "source": []
  },
  {
   "cell_type": "code",
   "execution_count": null,
   "metadata": {},
   "outputs": [],
   "source": []
  }
 ],
 "metadata": {
  "kernelspec": {
   "display_name": "Python 3",
   "language": "python",
   "name": "python3"
  },
  "language_info": {
   "codemirror_mode": {
    "name": "ipython",
    "version": 3
   },
   "file_extension": ".py",
   "mimetype": "text/x-python",
   "name": "python",
   "nbconvert_exporter": "python",
   "pygments_lexer": "ipython3",
   "version": "3.6.5"
  }
 },
 "nbformat": 4,
 "nbformat_minor": 2
}
